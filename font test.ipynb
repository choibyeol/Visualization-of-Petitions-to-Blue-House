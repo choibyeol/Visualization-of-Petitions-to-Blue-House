{
 "cells": [
  {
   "cell_type": "code",
   "execution_count": 1,
   "metadata": {},
   "outputs": [],
   "source": [
    "%matplotlib inline\n",
    "\n",
    "# 필요한 패키지와 라이브러리를 가져옴\n",
    "import matplotlib as mpl\n",
    "import matplotlib.pyplot as plt\n",
    "import matplotlib.font_manager as fm\n",
    "\n",
    "# 그래프에서 마이너스 폰트 깨지는 문제에 대한 대처\n",
    "mpl.rcParams['axes.unicode_minus'] = False"
   ]
  },
  {
   "cell_type": "code",
   "execution_count": 2,
   "metadata": {},
   "outputs": [
    {
     "name": "stdout",
     "output_type": "stream",
     "text": [
      "버전:  3.1.3\n",
      "설치 위치:  D:\\Anaconda3\\lib\\site-packages\\matplotlib\\__init__.py\n",
      "설정 위치:  C:\\Users\\최별\\.matplotlib\n",
      "캐시 위치:  C:\\Users\\최별\\.matplotlib\n"
     ]
    }
   ],
   "source": [
    "print ('버전: ', mpl.__version__)\n",
    "print ('설치 위치: ', mpl.__file__)\n",
    "print ('설정 위치: ', mpl.get_configdir())\n",
    "print ('캐시 위치: ', mpl.get_cachedir())"
   ]
  },
  {
   "cell_type": "code",
   "execution_count": 3,
   "metadata": {},
   "outputs": [
    {
     "name": "stdout",
     "output_type": "stream",
     "text": [
      "설정 파일 위치:  D:\\Anaconda3\\lib\\site-packages\\matplotlib\\mpl-data\\matplotlibrc\n"
     ]
    }
   ],
   "source": [
    "print ('설정 파일 위치: ', mpl.matplotlib_fname())"
   ]
  },
  {
   "cell_type": "code",
   "execution_count": 4,
   "metadata": {},
   "outputs": [
    {
     "name": "stdout",
     "output_type": "stream",
     "text": [
      "1016\n"
     ]
    }
   ],
   "source": [
    "font_list = fm.findSystemFonts(fontpaths=None, fontext='ttf')\n",
    "\n",
    "# ttf 폰트 전체개수\n",
    "print(len(font_list))"
   ]
  },
  {
   "cell_type": "code",
   "execution_count": 6,
   "metadata": {},
   "outputs": [
    {
     "data": {
      "text/plain": [
       "['C:\\\\Windows\\\\Fonts\\\\GOTHICB.TTF',\n",
       " 'C:\\\\Windows\\\\Fonts\\\\ENLIBRTY.TTF',\n",
       " 'C:\\\\WINDOWS\\\\Fonts\\\\msyhbd.ttc',\n",
       " 'C:\\\\Windows\\\\Fonts\\\\CALIST.TTF',\n",
       " 'C:\\\\WINDOWS\\\\Fonts\\\\calibrili.ttf',\n",
       " 'C:\\\\WINDOWS\\\\Fonts\\\\HMKLP.TTF',\n",
       " 'C:\\\\Windows\\\\Fonts\\\\YGGE05.TTF',\n",
       " 'C:\\\\WINDOWS\\\\Fonts\\\\BRITANIC.TTF',\n",
       " 'C:\\\\WINDOWS\\\\Fonts\\\\HYDNKB.TTF',\n",
       " 'C:\\\\Windows\\\\Fonts\\\\ROCK.TTF']"
      ]
     },
     "execution_count": 6,
     "metadata": {},
     "output_type": "execute_result"
    }
   ],
   "source": [
    "font_list[:10]"
   ]
  },
  {
   "cell_type": "code",
   "execution_count": 7,
   "metadata": {},
   "outputs": [
    {
     "name": "stdout",
     "output_type": "stream",
     "text": [
      "1016\n"
     ]
    },
    {
     "data": {
      "text/plain": [
       "['STIXSizeFiveSym',\n",
       " 'DejaVu Serif',\n",
       " 'STIXGeneral',\n",
       " 'cmex10',\n",
       " 'cmr10',\n",
       " 'cmmi10',\n",
       " 'DejaVu Sans Mono',\n",
       " 'STIXSizeOneSym',\n",
       " 'STIXSizeFourSym',\n",
       " 'STIXSizeOneSym']"
      ]
     },
     "execution_count": 7,
     "metadata": {},
     "output_type": "execute_result"
    }
   ],
   "source": [
    "f = [f.name for f in fm.fontManager.ttflist]\n",
    "print(len(font_list))\n",
    "# 10개의 폰트 명 만 출력\n",
    "f[:10]"
   ]
  },
  {
   "cell_type": "code",
   "execution_count": 8,
   "metadata": {},
   "outputs": [
    {
     "data": {
      "text/plain": [
       "[('NanumMyeongjo', 'C:\\\\Windows\\\\Fonts\\\\NanumMyeongjoExtraBold.ttf'),\n",
       " ('NanumGothic', 'C:\\\\WINDOWS\\\\Fonts\\\\NanumGothicExtraBold.ttf'),\n",
       " ('NanumGothic', 'C:\\\\Windows\\\\Fonts\\\\NanumGothicBold.ttf'),\n",
       " ('NanumMyeongjo', 'C:\\\\Windows\\\\Fonts\\\\NanumMyeongjo.ttf'),\n",
       " ('NanumMyeongjo', 'C:\\\\Windows\\\\Fonts\\\\NanumMyeongjoBold.ttf'),\n",
       " ('NanumGothic', 'C:\\\\WINDOWS\\\\Fonts\\\\NanumGothicLight.ttf'),\n",
       " ('NanumGothic', 'C:\\\\WINDOWS\\\\Fonts\\\\NanumGothic.ttf')]"
      ]
     },
     "execution_count": 8,
     "metadata": {},
     "output_type": "execute_result"
    }
   ],
   "source": [
    "[(f.name, f.fname) for f in fm.fontManager.ttflist if 'Nanum' in f.name]"
   ]
  },
  {
   "cell_type": "code",
   "execution_count": null,
   "metadata": {},
   "outputs": [],
   "source": []
  }
 ],
 "metadata": {
  "kernelspec": {
   "display_name": "Python 3",
   "language": "python",
   "name": "python3"
  },
  "language_info": {
   "codemirror_mode": {
    "name": "ipython",
    "version": 3
   },
   "file_extension": ".py",
   "mimetype": "text/x-python",
   "name": "python",
   "nbconvert_exporter": "python",
   "pygments_lexer": "ipython3",
   "version": "3.7.6"
  }
 },
 "nbformat": 4,
 "nbformat_minor": 4
}
